{
 "cells": [
  {
   "cell_type": "code",
   "execution_count": 31,
   "metadata": {},
   "outputs": [],
   "source": [
    "import numpy as np\n",
    "import matplotlib.pyplot as plt\n",
    "from scipy.integrate import odeint\n",
    "import pandas as pd\n",
    "import lmfit as lm\n",
    "import sys\n",
    "from scipy import signal\n",
    "SEED = 35010732 # from random.org\n",
    "np.random.seed(SEED)\n",
    "np.set_printoptions(threshold=sys.maxsize)"
   ]
  },
  {
   "cell_type": "code",
   "execution_count": 34,
   "metadata": {},
   "outputs": [
    {
     "data": {
      "text/plain": [
       "Text(0, 0.5, '\"Light Concentration\" - $L_{b}$')"
      ]
     },
     "execution_count": 34,
     "metadata": {},
     "output_type": "execute_result"
    },
    {
     "data": {
      "image/png": "[encoded data removed]",
      "text/plain": [
       "<Figure size 432x288 with 1 Axes>"
      ]
     },
     "metadata": {
      "needs_background": "light"
     },
     "output_type": "display_data"
    }
   ],
   "source": [
    "#12 second pulse every 20 min\n",
    "e = np.zeros((180000,))\n",
    "lif = 10 #light intensity factor\n",
    "i = 0\n",
    "ie = 11\n",
    "for x in e:\n",
    "    e[i:ie] = 1\n",
    "    i = i + 1200\n",
    "    ie = ie + 1200\n",
    "lr = e*lif\n",
    "lr = np.array(lr, dtype='float64')\n",
    "plt.plot(lr, color = 'red')\n",
    "plt.xlim(0,3700)\n",
    "plt.ylim(0,12)\n",
    "plt.xlabel('time (sec)')\n",
    "plt.ylabel('\"Light Concentration\" - $L_{b}$')"
   ]
  },
  {
   "cell_type": "code",
   "execution_count": 36,
   "metadata": {},
   "outputs": [
    {
     "ename": "TypeError",
     "evalue": "Cannot cast array data from dtype('O') to dtype('float64') according to the rule 'safe'",
     "output_type": "error",
     "traceback": [
      "\u001b[1;31m---------------------------------------------------------------------------\u001b[0m",
      "\u001b[1;31mTypeError\u001b[0m                                 Traceback (most recent call last)",
      "\u001b[1;32m<ipython-input-36-502f38ba0886>\u001b[0m in \u001b[0;36m<module>\u001b[1;34m\u001b[0m\n\u001b[0;32m     52\u001b[0m \u001b[0mvec0\u001b[0m \u001b[1;33m=\u001b[0m \u001b[1;33m[\u001b[0m\u001b[0mP00\u001b[0m\u001b[1;33m,\u001b[0m\u001b[0mP10\u001b[0m\u001b[1;33m,\u001b[0m\u001b[0mmRNA0\u001b[0m\u001b[1;33m,\u001b[0m\u001b[0mlr0\u001b[0m\u001b[1;33m,\u001b[0m\u001b[0mTetR0\u001b[0m\u001b[1;33m,\u001b[0m\u001b[0mTetRi0\u001b[0m\u001b[1;33m,\u001b[0m \u001b[0mGFP0\u001b[0m\u001b[1;33m]\u001b[0m\u001b[1;33m\u001b[0m\u001b[1;33m\u001b[0m\u001b[0m\n\u001b[0;32m     53\u001b[0m \u001b[1;33m\u001b[0m\u001b[0m\n\u001b[1;32m---> 54\u001b[1;33m \u001b[0msoln\u001b[0m \u001b[1;33m=\u001b[0m \u001b[0modeint\u001b[0m\u001b[1;33m(\u001b[0m\u001b[0mgfp\u001b[0m\u001b[1;33m,\u001b[0m \u001b[0mvec0\u001b[0m\u001b[1;33m,\u001b[0m \u001b[0mt\u001b[0m\u001b[1;33m,\u001b[0m \u001b[0margs\u001b[0m\u001b[1;33m=\u001b[0m\u001b[1;33m(\u001b[0m\u001b[0mktr\u001b[0m\u001b[1;33m,\u001b[0m\u001b[0mktl\u001b[0m\u001b[1;33m,\u001b[0m\u001b[0mdm\u001b[0m\u001b[1;33m,\u001b[0m\u001b[0mdpro\u001b[0m\u001b[1;33m,\u001b[0m\u001b[0mka\u001b[0m\u001b[1;33m,\u001b[0m\u001b[0mki\u001b[0m\u001b[1;33m,\u001b[0m\u001b[0mb\u001b[0m\u001b[1;33m,\u001b[0m\u001b[0mu\u001b[0m\u001b[1;33m)\u001b[0m\u001b[1;33m)\u001b[0m\u001b[1;33m\u001b[0m\u001b[1;33m\u001b[0m\u001b[0m\n\u001b[0m\u001b[0;32m     55\u001b[0m \u001b[0mGFP\u001b[0m \u001b[1;33m=\u001b[0m \u001b[0msoln\u001b[0m\u001b[1;33m.\u001b[0m\u001b[0mT\u001b[0m\u001b[1;33m[\u001b[0m\u001b[1;36m6\u001b[0m\u001b[1;33m]\u001b[0m\u001b[1;33m\u001b[0m\u001b[1;33m\u001b[0m\u001b[0m\n\u001b[0;32m     56\u001b[0m \u001b[0mplt\u001b[0m\u001b[1;33m.\u001b[0m\u001b[0mfigure\u001b[0m\u001b[1;33m(\u001b[0m\u001b[1;33m)\u001b[0m\u001b[1;33m\u001b[0m\u001b[1;33m\u001b[0m\u001b[0m\n",
      "\u001b[1;32m~\\Anaconda3\\lib\\site-packages\\scipy\\integrate\\odepack.py\u001b[0m in \u001b[0;36modeint\u001b[1;34m(func, y0, t, args, Dfun, col_deriv, full_output, ml, mu, rtol, atol, tcrit, h0, hmax, hmin, ixpr, mxstep, mxhnil, mxordn, mxords, printmessg, tfirst)\u001b[0m\n\u001b[0;32m    242\u001b[0m                              \u001b[0mfull_output\u001b[0m\u001b[1;33m,\u001b[0m \u001b[0mrtol\u001b[0m\u001b[1;33m,\u001b[0m \u001b[0matol\u001b[0m\u001b[1;33m,\u001b[0m \u001b[0mtcrit\u001b[0m\u001b[1;33m,\u001b[0m \u001b[0mh0\u001b[0m\u001b[1;33m,\u001b[0m \u001b[0mhmax\u001b[0m\u001b[1;33m,\u001b[0m \u001b[0mhmin\u001b[0m\u001b[1;33m,\u001b[0m\u001b[1;33m\u001b[0m\u001b[1;33m\u001b[0m\u001b[0m\n\u001b[0;32m    243\u001b[0m                              \u001b[0mixpr\u001b[0m\u001b[1;33m,\u001b[0m \u001b[0mmxstep\u001b[0m\u001b[1;33m,\u001b[0m \u001b[0mmxhnil\u001b[0m\u001b[1;33m,\u001b[0m \u001b[0mmxordn\u001b[0m\u001b[1;33m,\u001b[0m \u001b[0mmxords\u001b[0m\u001b[1;33m,\u001b[0m\u001b[1;33m\u001b[0m\u001b[1;33m\u001b[0m\u001b[0m\n\u001b[1;32m--> 244\u001b[1;33m                              int(bool(tfirst)))\n\u001b[0m\u001b[0;32m    245\u001b[0m     \u001b[1;32mif\u001b[0m \u001b[0moutput\u001b[0m\u001b[1;33m[\u001b[0m\u001b[1;33m-\u001b[0m\u001b[1;36m1\u001b[0m\u001b[1;33m]\u001b[0m \u001b[1;33m<\u001b[0m \u001b[1;36m0\u001b[0m\u001b[1;33m:\u001b[0m\u001b[1;33m\u001b[0m\u001b[1;33m\u001b[0m\u001b[0m\n\u001b[0;32m    246\u001b[0m         \u001b[0mwarning_msg\u001b[0m \u001b[1;33m=\u001b[0m \u001b[0m_msgs\u001b[0m\u001b[1;33m[\u001b[0m\u001b[0moutput\u001b[0m\u001b[1;33m[\u001b[0m\u001b[1;33m-\u001b[0m\u001b[1;36m1\u001b[0m\u001b[1;33m]\u001b[0m\u001b[1;33m]\u001b[0m \u001b[1;33m+\u001b[0m \u001b[1;34m\" Run with full_output = 1 to get quantitative information.\"\u001b[0m\u001b[1;33m\u001b[0m\u001b[1;33m\u001b[0m\u001b[0m\n",
      "\u001b[1;31mTypeError\u001b[0m: Cannot cast array data from dtype('O') to dtype('float64') according to the rule 'safe'"
     ]
    }
   ],
   "source": [
    "#ODE's\n",
    "#dP0 = u*P1 - b*TetR*P0\n",
    "#dP1 = -u*P1 + b*Tetr*P0\n",
    "#dmRNA = -dm*mRNA + ktr*P0\n",
    "#dTetR = -dpro*TetR - ki*TetR - b*P0*TetR + ka*TetRi + ktl*mRNA + u*P1\n",
    "#dTetRi = -dpro*TetRi + ki*TetR - ka*TetRi\n",
    "#GFP = -dpro*GFP + ktl*mRNA\n",
    "t = np.linspace(0,50,180000)\n",
    "\n",
    "ktr = 200\n",
    "ktl = 37.5\n",
    "dpro = 0.06\n",
    "dm = 3.35\n",
    "ka = 1\n",
    "ki = 3\n",
    "b = 0.2\n",
    "u = 20.8\n",
    "    \n",
    "def gfp(vec, t, ktr, ktl, dm, dpro, ka, ki, u, b):\n",
    "    P0 = vec[0]\n",
    "    P1 = vec[1]\n",
    "    mRNA = vec[2]\n",
    "    TetR = vec[3]\n",
    "    TetRi = vec[4]\n",
    "    GFP = vec[5]\n",
    "    vec = [P0, P1, mRNA, lr, TetR, TetRi, GFP]\n",
    "    \n",
    "    #Parameters\n",
    "    ktr = 200\n",
    "    ktl = 37.5\n",
    "    dpro = 0.06\n",
    "    dm = 3.35\n",
    "    ka = 1\n",
    "    ki = 3\n",
    "    b = 0.2\n",
    "    u = 20.8\n",
    "    return np.array([u*P1 - b*TetR*P0,\n",
    "                    -u*P1 + b*TetR*P0,\n",
    "                    -dm*mRNA + ktr*P0,\n",
    "                    -dpro*TetR - lr*ki*TetR - b*P0*TetR + ka*TetRi + ktl*mRNA + u*P1,\n",
    "                    -dpro*TetRi + ki*TetR - ka*TetRi,\n",
    "                    -dpro*GFP + ktl*mRNA])\n",
    "#intitial Conditions\n",
    "P00 = 1\n",
    "P10 = 0\n",
    "mRNA0 = 0\n",
    "GFP0 = 200\n",
    "lr0 = 10\n",
    "TetR0 = 200\n",
    "TetRi0 = 10\n",
    "\n",
    "vec0 = [P00,P10,mRNA0,lr0,TetR0,TetRi0, GFP0]\n",
    "\n",
    "soln = odeint(gfp, vec0, t, args=(ktr,ktl,dm,dpro,ka,ki,b,u))\n",
    "GFP = soln.T[6]\n",
    "plt.figure()\n",
    "plt.plot(t, GFP)"
   ]
  },
  {
   "cell_type": "code",
   "execution_count": null,
   "metadata": {},
   "outputs": [],
   "source": []
  },
  {
   "cell_type": "code",
   "execution_count": null,
   "metadata": {},
   "outputs": [],
   "source": []
  },
  {
   "cell_type": "code",
   "execution_count": null,
   "metadata": {},
   "outputs": [],
   "source": []
  },
  {
   "cell_type": "code",
   "execution_count": null,
   "metadata": {},
   "outputs": [],
   "source": []
  }
 ],
 "metadata": {
  "kernelspec": {
   "display_name": "Python 3",
   "language": "python",
   "name": "python3"
  },
  "language_info": {
   "codemirror_mode": {
    "name": "ipython",
    "version": 3
   },
   "file_extension": ".py",
   "mimetype": "text/x-python",
   "name": "python",
   "nbconvert_exporter": "python",
   "pygments_lexer": "ipython3",
   "version": "3.7.4"
  }
 },
 "nbformat": 4,
 "nbformat_minor": 2
}
