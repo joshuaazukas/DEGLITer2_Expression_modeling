{
 "cells": [
  {
   "cell_type": "code",
   "execution_count": 391,
   "metadata": {},
   "outputs": [],
   "source": [
    "import numpy as np\n",
    "import matplotlib.pyplot as plt\n",
    "from scipy.integrate import odeint\n",
    "import pandas as pd\n",
    "import lmfit as lm\n",
    "SEED = 35010732 # from random.org\n",
    "np.random.seed(SEED)"
   ]
  },
  {
   "cell_type": "code",
   "execution_count": 392,
   "metadata": {},
   "outputs": [],
   "source": [
    "#ODE's\n",
    "#dP0 = -b*P0i*Ri + u*P1i\n",
    "#dP1 = b*P0i*Ri - u*P1i - b*P1i*Ri + u*P2i\n",
    "#dP2 = b*P1i*Ri - u*P2i\n",
    "#dmRNA = mr*P0i + lr - mRNAi*g1\n",
    "#dR = mRNAi*tr - Ri*g2 -b*P0i*Ri -b*P1i*Ri +u*P1i +u*P2i\n",
    "#dG = mRNAi*tr - Gi*g2\n",
    "def gfp(vec, t, lr, mr,tr,g1,g2,b,u):\n",
    "    P0i=vec[0]      #Free GFP & TetR promoter\n",
    "    P1i=vec[1]    #1 bound GFP & TetR promoter\n",
    "    P2i=vec[2]     #2 bound GFP & TetR promoter\n",
    "    mRNAi=vec[3]   #mRNA levels\n",
    "    Ri=vec[4]     #TetR Protein levels\n",
    "    Gi=vec[5]    #GFP protein levels\n",
    "    vec = [P0i,P1i,P2i,mRNAi,Ri,Gi]\n",
    "    return np.array([-b*P0i*Ri + u*P1i,\n",
    "                    b*P0i*Ri - u*P1i - b*P1i*Ri + u*P2i,\n",
    "                    b*P1i*Ri - u*P2i,\n",
    "                    mr*P0i + lr - mRNAi*g1,\n",
    "                    mRNAi*tr - Ri*g2 -b*P0i*Ri -b*P1i*Ri +u*P1i +u*P2i,\n",
    "                    mRNAi*tr - Gi*g2])"
   ]
  },
  {
   "cell_type": "code",
   "execution_count": null,
   "metadata": {},
   "outputs": [],
   "source": []
  },
  {
   "cell_type": "code",
   "execution_count": 393,
   "metadata": {},
   "outputs": [],
   "source": [
    "gfpi =pd.read_excel(\"12_8_20_comp_gfp_intensity.xlsx\")\n",
    "gfpi_data_cut = gfpi[0:150]\n",
    "gfpi_data_cut = gfpi_data_cut.values.T\n",
    "#gfpi_data.shape\n",
    "gfpi_data_cut.shape\n",
    "time = gfpi_data_cut[0].astype(np.double)\n",
    "gfp_data = gfpi_data_cut[1:].astype(np.double)"
   ]
  },
  {
   "cell_type": "code",
   "execution_count": 394,
   "metadata": {},
   "outputs": [
    {
     "data": {
      "text/plain": [
       "Text(0, 0.5, 'integrated intensity')"
      ]
     },
     "execution_count": 394,
     "metadata": {},
     "output_type": "execute_result"
    },
    {
     "data": {
      "image/png": "[encoded data removed]",
      "text/plain": [
       "<Figure size 432x288 with 1 Axes>"
      ]
     },
     "metadata": {
      "needs_background": "light"
     },
     "output_type": "display_data"
    }
   ],
   "source": [
    "for data in gfp_data[:1]:\n",
    "    plt.plot(time, data)\n",
    "plt.xlabel(\"time in hrs\")\n",
    "plt.ylabel(\"integrated intensity\")"
   ]
  },
  {
   "cell_type": "code",
   "execution_count": 395,
   "metadata": {},
   "outputs": [],
   "source": [
    "noise=np.sqrt(np.abs(data))"
   ]
  },
  {
   "cell_type": "code",
   "execution_count": 396,
   "metadata": {},
   "outputs": [],
   "source": [
    "def DEODE(t,t0,lr,mr,tr,g1,g2,b,u,offset):\n",
    "    f = np.zeros(np.shape(t))\n",
    "    idx_after = np.array(t>t0, dtype=bool)\n",
    "    dt = t[idx_after] - t0\n",
    "    if dt[0]>0:\n",
    "        addzero =True\n",
    "        dt = np.concatenate(([0.0],dt))\n",
    "    else:\n",
    "        addzero =False\n",
    "    result = odeint(gfp,vec0, dt, args=(lr,mr,tr,g1,g2,b,u))\n",
    "    if addzero:\n",
    "        f[idx_after] = result[:,5][1:]\n",
    "    else:\n",
    "        f[idx_after] = result[:,5]\n",
    "    return f + offset\n",
    "\n",
    "def DEODE(t,t0,lr,mr,tr,g1,g2,b,u,offset):\n",
    "    f = np.zeros(np.shape(t))\n",
    "    idx_after = np.array(t>t0, dtype=bool)\n",
    "    dt = t[idx_after] - t0\n",
    "    if dt[0]>0:\n",
    "        addzero = True\n",
    "        dt = np.concatenate(([0.0],dt))\n",
    "    else:\n",
    "        addzero =False\n",
    "    result = odeint(gfp, vec0, dt, args=(lr,mr,tr,g1,g2,b,u))\n",
    "    if addzero:\n",
    "        f[idx_after] = result[:,5][1:]\n",
    "    else:\n",
    "        f[idx_after] = result[:,5]\n",
    "    return f + offset"
   ]
  },
  {
   "cell_type": "code",
   "execution_count": 426,
   "metadata": {},
   "outputs": [],
   "source": [
    "mRNA0=2              #TetR mrna  \n",
    "GFP10= 10       #GFP\n",
    "TetR0= 1                    #unbound/active TetR protein ogv=0\n",
    "P00= 1                    #0 TetR bound to TetR promoter\n",
    "P10= 1                     #1 TetR bound to TetR promoter\n",
    "P20= 2                     #2 TetR bound to TetR promoter\n",
    "vec0 = [mRNA0, GFP10, TetR0, P00, P10, P20]"
   ]
  },
  {
   "cell_type": "code",
   "execution_count": 443,
   "metadata": {},
   "outputs": [
    {
     "name": "stdout",
     "output_type": "stream",
     "text": [
      "[[Model]]\n",
      "    Model(DEODE)\n",
      "[[Fit Statistics]]\n",
      "    # fitting method   = leastsq\n",
      "    # function evals   = 43\n",
      "    # data points      = 150\n",
      "    # variables        = 8\n",
      "    chi-square         = 34280.5128\n",
      "    reduced chi-square = 241.412062\n",
      "    Akaike info crit   = 830.754556\n",
      "    Bayesian info crit = 854.839638\n",
      "[[Variables]]\n",
      "    t0:      0.79018175 +/- 0.02635436 (3.34%) (init = 0.8)\n",
      "    lr:      4.90714595 +/- 0.17613078 (3.59%) (init = 5)\n",
      "    mr:      20.1370525 +/- 0.60441227 (3.00%) (init = 19.32)\n",
      "    tr:      149.539022 +/- 4.39283795 (2.94%) (init = 150)\n",
      "    g1:      0.20088060 +/- 0.00540563 (2.69%) (init = 0.2)\n",
      "    g2:      0.04564562 +/- 0.00117174 (2.57%) (init = 0.046)\n",
      "    b:       0.20315674 +/- 0.00573037 (2.82%) (init = 0.2)\n",
      "    u:       22.2847796 +/- 0.81850147 (3.67%) (init = 22.8)\n",
      "    offset:  62000 (fixed)\n",
      "[[Correlations]] (unreported correlations are < 0.250)\n",
      "    C(lr, tr) = -0.722\n",
      "    C(g2, b)  = -0.679\n",
      "    C(t0, g1) = -0.596\n",
      "    C(tr, u)  = -0.561\n",
      "    C(mr, u)  = -0.525\n",
      "    C(b, u)   =  0.321\n",
      "    C(lr, b)  = -0.311\n",
      "    C(lr, g2) = -0.310\n",
      "    C(t0, mr) = -0.266\n",
      "    C(tr, g2) =  0.260\n"
     ]
    }
   ],
   "source": [
    "DE_model = lm.Model(DEODE)\n",
    "pars = DE_model.make_params()\n",
    "pars['t0'].set(value=0.8,vary=True)\n",
    "pars['lr'].set(value = 5, vary = True)\n",
    "pars['mr'].set(value = 19.32, vary = True)\n",
    "pars['tr'].set(value = 150, vary = True)\n",
    "pars['g1'].set(value = .2, vary =True)\n",
    "pars['g2'].set(value = 0.046, vary = True)\n",
    "pars['b'].set(value = 0.2, vary = True)\n",
    "pars['u'].set(value =22.8, vary = True)\n",
    "pars['offset'].set(value= 62000,vary= False)\n",
    "\n",
    "out = DE_model.fit(data,pars,t=time,weights=1/noise)\n",
    "print(out.fit_report(min_correl=0.25))"
   ]
  },
  {
   "cell_type": "code",
   "execution_count": 444,
   "metadata": {},
   "outputs": [
    {
     "data": {
      "text/plain": [
       "[<matplotlib.lines.Line2D at 0x15ccc307fc8>]"
      ]
     },
     "execution_count": 444,
     "metadata": {},
     "output_type": "execute_result"
    },
    {
     "data": {
      "image/png": "[encoded data removed]",
      "text/plain": [
       "<Figure size 432x288 with 1 Axes>"
      ]
     },
     "metadata": {
      "needs_background": "light"
     },
     "output_type": "display_data"
    }
   ],
   "source": [
    "for data in gfp_data[:1]:\n",
    "    plt.plot(time, data)\n",
    "plt.xlabel(\"time in hrs\")\n",
    "plt.ylabel(\"integrated intensity\")\n",
    "plt.plot(time,out.best_fit,'-r')"
   ]
  },
  {
   "cell_type": "code",
   "execution_count": null,
   "metadata": {},
   "outputs": [],
   "source": []
  },
  {
   "cell_type": "code",
   "execution_count": null,
   "metadata": {},
   "outputs": [],
   "source": []
  }
 ],
 "metadata": {
  "kernelspec": {
   "display_name": "Python 3",
   "language": "python",
   "name": "python3"
  },
  "language_info": {
   "codemirror_mode": {
    "name": "ipython",
    "version": 3
   },
   "file_extension": ".py",
   "mimetype": "text/x-python",
   "name": "python",
   "nbconvert_exporter": "python",
   "pygments_lexer": "ipython3",
   "version": "3.7.4"
  }
 },
 "nbformat": 4,
 "nbformat_minor": 2
}
