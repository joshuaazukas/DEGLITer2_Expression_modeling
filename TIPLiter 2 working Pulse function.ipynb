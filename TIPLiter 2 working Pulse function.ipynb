{
 "cells": [
  {
   "cell_type": "code",
   "execution_count": 2,
   "metadata": {},
   "outputs": [],
   "source": [
    "import numpy as np\n",
    "import matplotlib.pyplot as plt\n",
    "from scipy.integrate import odeint\n",
    "import pandas as pd\n",
    "import lmfit as lm\n",
    "import sys\n",
    "from scipy import signal\n",
    "SEED = 35010732 # from random.org\n",
    "np.random.seed(SEED)\n",
    "np.set_printoptions(threshold=sys.maxsize)"
   ]
  },
  {
   "cell_type": "code",
   "execution_count": null,
   "metadata": {},
   "outputs": [],
   "source": []
  },
  {
   "cell_type": "code",
   "execution_count": 3,
   "metadata": {},
   "outputs": [],
   "source": [
    "t = np.linspace(0,50,180000)  #50 hours, with 180,000 seconds\n",
    "tp1 = t[11:180000:1200]       #time step light off\n",
    "tp0 = t[0:1800000:1200]       #time step light on"
   ]
  },
  {
   "cell_type": "code",
   "execution_count": 4,
   "metadata": {},
   "outputs": [],
   "source": [
    "t = np.linspace(0,50,180000)\n",
    "def pulse(t):\n",
    "    if(t <= tp1[0]): return 10\n",
    "    if(t >= tp0[1] and t <= tp1[1]): return 10\n",
    "    if(t >= tp0[2] and t <= tp1[2]): return 10\n",
    "    if(t >= tp0[3] and t <= tp1[3]): return 10\n",
    "    if(t >= tp0[4] and t <= tp1[4]): return 10\n",
    "    if(t >= tp0[5] and t <= tp1[5]): return 10\n",
    "    if(t >= tp0[6] and t <= tp1[6]): return 10\n",
    "    if(t >= tp0[7] and t <= tp1[7]): return 10\n",
    "    if(t >= tp0[8] and t <= tp1[8]): return 10\n",
    "    if(t >= tp0[9] and t <= tp1[9]): return 10\n",
    "    if(t >= tp0[10] and t <= tp1[10]): return 10\n",
    "    if(t >= tp0[11] and t <= tp1[11]): return 10\n",
    "    if(t >= tp0[12] and t <= tp1[12]): return 10\n",
    "    if(t >= tp0[13] and t <= tp1[13]): return 10\n",
    "    if(t >= tp0[14] and t <= tp1[14]): return 10\n",
    "    if(t >= tp0[15] and t <= tp1[15]): return 10\n",
    "    if(t >= tp0[16] and t <= tp1[16]): return 10\n",
    "    if(t >= tp0[17] and t <= tp1[17]): return 10\n",
    "    if(t >= tp0[18] and t <= tp1[18]): return 10\n",
    "    if(t >= tp0[19] and t <= tp1[19]): return 10\n",
    "    if(t >= tp0[20] and t <= tp1[20]): return 10\n",
    "    if(t >= tp0[21] and t <= tp1[21]): return 10\n",
    "    if(t >= tp0[22] and t <= tp1[22]): return 10\n",
    "    if(t >= tp0[23] and t <= tp1[23]): return 10\n",
    "    if(t >= tp0[24] and t <= tp1[24]): return 10\n",
    "    if(t >= tp0[25] and t <= tp1[25]): return 10\n",
    "    if(t >= tp0[26] and t <= tp1[26]): return 10\n",
    "    if(t >= tp0[27] and t <= tp1[27]): return 10\n",
    "    if(t >= tp0[28] and t <= tp1[28]): return 10\n",
    "    if(t >= tp0[29] and t <= tp1[29]): return 10\n",
    "    if(t >= tp0[30] and t <= tp1[30]): return 10\n",
    "    if(t >= tp0[31] and t <= tp1[31]): return 10\n",
    "    if(t >= tp0[32] and t <= tp1[32]): return 10\n",
    "    if(t >= tp0[33] and t <= tp1[33]): return 10\n",
    "    if(t >= tp0[34] and t <= tp1[34]): return 10\n",
    "    if(t >= tp0[35] and t <= tp1[35]): return 10\n",
    "    if(t >= tp0[36] and t <= tp1[36]): return 10\n",
    "    if(t >= tp0[37] and t <= tp1[37]): return 10\n",
    "    if(t >= tp0[38] and t <= tp1[38]): return 10\n",
    "    if(t >= tp0[39] and t <= tp1[39]): return 10\n",
    "    if(t >= tp0[40] and t <= tp1[40]): return 10\n",
    "    if(t >= tp0[41] and t <= tp1[41]): return 10\n",
    "    if(t >= tp0[42] and t <= tp1[42]): return 10\n",
    "    if(t >= tp0[43] and t <= tp1[43]): return 10\n",
    "    if(t >= tp0[44] and t <= tp1[44]): return 10\n",
    "    if(t >= tp0[45] and t <= tp1[45]): return 10\n",
    "    if(t >= tp0[46] and t <= tp1[46]): return 10\n",
    "    if(t >= tp0[47] and t <= tp1[47]): return 10\n",
    "    if(t >= tp0[48] and t <= tp1[48]): return 10\n",
    "    if(t >= tp0[49] and t <= tp1[49]): return 10\n",
    "    if(t >= tp0[50] and t <= tp1[50]): return 10\n",
    "    if(t >= tp0[51] and t <= tp1[51]): return 10\n",
    "    if(t >= tp0[52] and t <= tp1[52]): return 10\n",
    "    if(t >= tp0[53] and t <= tp1[53]): return 10\n",
    "    if(t >= tp0[54] and t <= tp1[54]): return 10\n",
    "    if(t >= tp0[55] and t <= tp1[55]): return 10\n",
    "    if(t >= tp0[56] and t <= tp1[56]): return 10\n",
    "    if(t >= tp0[57] and t <= tp1[57]): return 10\n",
    "    if(t >= tp0[58] and t <= tp1[58]): return 10\n",
    "    if(t >= tp0[59] and t <= tp1[59]): return 10\n",
    "    if(t >= tp0[60] and t <= tp1[60]): return 10\n",
    "    if(t >= tp0[61] and t <= tp1[61]): return 10\n",
    "    if(t >= tp0[62] and t <= tp1[62]): return 10\n",
    "    if(t >= tp0[63] and t <= tp1[63]): return 10\n",
    "    if(t >= tp0[64] and t <= tp1[64]): return 10\n",
    "    if(t >= tp0[65] and t <= tp1[65]): return 10\n",
    "    if(t >= tp0[66] and t <= tp1[66]): return 10\n",
    "    if(t >= tp0[67] and t <= tp1[67]): return 10\n",
    "    if(t >= tp0[68] and t <= tp1[68]): return 10\n",
    "    if(t >= tp0[69] and t <= tp1[69]): return 10\n",
    "    if(t >= tp0[70] and t <= tp1[70]): return 10\n",
    "    if(t >= tp0[71] and t <= tp1[71]): return 10\n",
    "    if(t >= tp0[72] and t <= tp1[72]): return 10\n",
    "    if(t >= tp0[73] and t <= tp1[73]): return 10\n",
    "    if(t >= tp0[74] and t <= tp1[74]): return 10\n",
    "    if(t >= tp0[75] and t <= tp1[75]): return 10\n",
    "    if(t >= tp0[76] and t <= tp1[76]): return 10\n",
    "    if(t >= tp0[77] and t <= tp1[77]): return 10\n",
    "    if(t >= tp0[78] and t <= tp1[78]): return 10\n",
    "    if(t >= tp0[79] and t <= tp1[79]): return 10\n",
    "    if(t >= tp0[80] and t <= tp1[80]): return 10\n",
    "    if(t >= tp0[81] and t <= tp1[81]): return 10\n",
    "    if(t >= tp0[82] and t <= tp1[82]): return 10\n",
    "    if(t >= tp0[83] and t <= tp1[83]): return 10\n",
    "    if(t >= tp0[84] and t <= tp1[84]): return 10\n",
    "    if(t >= tp0[85] and t <= tp1[85]): return 10\n",
    "    if(t >= tp0[86] and t <= tp1[86]): return 10\n",
    "    if(t >= tp0[87] and t <= tp1[87]): return 10\n",
    "    if(t >= tp0[88] and t <= tp1[88]): return 10\n",
    "    if(t >= tp0[89] and t <= tp1[89]): return 10\n",
    "    if(t >= tp0[90] and t <= tp1[90]): return 10\n",
    "    if(t >= tp0[91] and t <= tp1[91]): return 10\n",
    "    if(t >= tp0[92] and t <= tp1[92]): return 10\n",
    "    if(t >= tp0[93] and t <= tp1[93]): return 10\n",
    "    if(t >= tp0[94] and t <= tp1[94]): return 10\n",
    "    if(t >= tp0[95] and t <= tp1[95]): return 10\n",
    "    if(t >= tp0[96] and t <= tp1[96]): return 10\n",
    "    if(t >= tp0[97] and t <= tp1[97]): return 10\n",
    "    if(t >= tp0[98] and t <= tp1[98]): return 10\n",
    "    if(t >= tp0[99] and t <= tp1[99]): return 10\n",
    "    if(t >= tp0[100] and t <= tp1[100]): return 10\n",
    "    if(t >= tp0[101] and t <= tp1[101]): return 10\n",
    "    if(t >= tp0[102] and t <= tp1[102]): return 10\n",
    "    if(t >= tp0[103] and t <= tp1[103]): return 10\n",
    "    if(t >= tp0[104] and t <= tp1[104]): return 10\n",
    "    if(t >= tp0[105] and t <= tp1[105]): return 10\n",
    "    if(t >= tp0[106] and t <= tp1[106]): return 10\n",
    "    if(t >= tp0[107] and t <= tp1[107]): return 10\n",
    "    if(t >= tp0[108] and t <= tp1[108]): return 10\n",
    "    if(t >= tp0[109] and t <= tp1[109]): return 10\n",
    "    if(t >= tp0[110] and t <= tp1[110]): return 10\n",
    "    if(t >= tp0[111] and t <= tp1[111]): return 10\n",
    "    if(t >= tp0[112] and t <= tp1[112]): return 10\n",
    "    if(t >= tp0[113] and t <= tp1[113]): return 10\n",
    "    if(t >= tp0[114] and t <= tp1[114]): return 10\n",
    "    if(t >= tp0[115] and t <= tp1[115]): return 10\n",
    "    if(t >= tp0[116] and t <= tp1[116]): return 10\n",
    "    if(t >= tp0[117] and t <= tp1[117]): return 10\n",
    "    if(t >= tp0[118] and t <= tp1[118]): return 10\n",
    "    if(t >= tp0[119] and t <= tp1[119]): return 10\n",
    "    if(t >= tp0[120] and t <= tp1[120]): return 10\n",
    "    if(t >= tp0[121] and t <= tp1[121]): return 10\n",
    "    if(t >= tp0[122] and t <= tp1[122]): return 10\n",
    "    if(t >= tp0[123] and t <= tp1[123]): return 10\n",
    "    if(t >= tp0[124] and t <= tp1[124]): return 10\n",
    "    if(t >= tp0[125] and t <= tp1[125]): return 10\n",
    "    if(t >= tp0[126] and t <= tp1[126]): return 10\n",
    "    if(t >= tp0[127] and t <= tp1[127]): return 10\n",
    "    if(t >= tp0[128] and t <= tp1[128]): return 10\n",
    "    if(t >= tp0[129] and t <= tp1[129]): return 10\n",
    "    if(t >= tp0[130] and t <= tp1[130]): return 10\n",
    "    if(t >= tp0[131] and t <= tp1[131]): return 10\n",
    "    if(t >= tp0[132] and t <= tp1[132]): return 10\n",
    "    if(t >= tp0[133] and t <= tp1[133]): return 10\n",
    "    if(t >= tp0[134] and t <= tp1[134]): return 10\n",
    "    if(t >= tp0[135] and t <= tp1[135]): return 10\n",
    "    if(t >= tp0[136] and t <= tp1[136]): return 10\n",
    "    if(t >= tp0[137] and t <= tp1[137]): return 10\n",
    "    if(t >= tp0[138] and t <= tp1[138]): return 10\n",
    "    if(t >= tp0[139] and t <= tp1[139]): return 10\n",
    "    if(t >= tp0[140] and t <= tp1[140]): return 10\n",
    "    if(t >= tp0[141] and t <= tp1[141]): return 10\n",
    "    if(t >= tp0[142] and t <= tp1[142]): return 10\n",
    "    if(t >= tp0[143] and t <= tp1[143]): return 10\n",
    "    if(t >= tp0[144] and t <= tp1[144]): return 10\n",
    "    if(t >= tp0[145] and t <= tp1[145]): return 10\n",
    "    if(t >= tp0[146] and t <= tp1[146]): return 10\n",
    "    if(t >= tp0[147] and t <= tp1[147]): return 10\n",
    "    if(t >= tp0[148] and t <= tp1[148]): return 10\n",
    "    if(t >= tp0[149] and t <= tp1[149]): return 10\n",
    "\n",
    "\n",
    "    else: return 1\n",
    "    #Please help...\n",
    "        \n"
   ]
  },
  {
   "cell_type": "code",
   "execution_count": 5,
   "metadata": {},
   "outputs": [
    {
     "data": {
      "text/plain": [
       "(-100, 15000)"
      ]
     },
     "execution_count": 5,
     "metadata": {},
     "output_type": "execute_result"
    },
    {
     "data": {
      "image/png": "[encoded data removed]",
      "text/plain": [
       "<Figure size 432x288 with 1 Axes>"
      ]
     },
     "metadata": {
      "needs_background": "light"
     },
     "output_type": "display_data"
    }
   ],
   "source": [
    "plt.plot(list(map(pulse,t)))\n",
    "plt.xlim(-100,15000)"
   ]
  },
  {
   "cell_type": "code",
   "execution_count": 6,
   "metadata": {},
   "outputs": [
    {
     "data": {
      "text/plain": [
       "(-10, 60)"
      ]
     },
     "execution_count": 6,
     "metadata": {},
     "output_type": "execute_result"
    },
    {
     "data": {
      "image/png": "[encoded data removed]",
      "text/plain": [
       "<Figure size 432x288 with 1 Axes>"
      ]
     },
     "metadata": {
      "needs_background": "light"
     },
     "output_type": "display_data"
    }
   ],
   "source": [
    "#ODE's\n",
    "#dP0 = u*P1 - b*TetR*P0\n",
    "#dP1 = -u*P1 + b*Tetr*P0\n",
    "#dmRNA = -dm*mRNA + ktr*P0\n",
    "#dTetR = -dpro*TetR - ki*TetR - b*P0*TetR + ka*TetRi + ktl*mRNA + u*P1 add extra term\n",
    "#dTetRi = -dpro*TetRi + ki*TetR - ka*TetRi\n",
    "#GFP = -dpro*GFP + ktl*mRNA\n",
    "\n",
    "t = np.linspace(0,50,180000)\n",
    "ktr = 200\n",
    "ktl = 37.5\n",
    "dpro = 0.06\n",
    "dm = 3.35\n",
    "ka = 1\n",
    "ki = 3\n",
    "b = 0.2\n",
    "u = 20.8\n",
    "    \n",
    "def gfp(vec, t, ktr, ktl, dm, dpro, ka, ki, u, b):\n",
    "    P0 = vec[0]\n",
    "    P1 = vec[1]\n",
    "    mRNA = vec[2]\n",
    "    TetR = vec[3]\n",
    "    TetRi = vec[4]\n",
    "    GFP = vec[5]\n",
    "    vec = [P0, P1, mRNA, TetR, TetRi, GFP]\n",
    "    \n",
    "    #Parameters\n",
    "    ktr = 200\n",
    "    ktl = 37.5\n",
    "    dpro = 0.06\n",
    "    dm = 3.35\n",
    "    ka = 2\n",
    "    ki = 2\n",
    "    b = 0.2\n",
    "    u = 20.8\n",
    "    return np.array([u*P1 - b*TetR*P0,\n",
    "                    -u*P1 + b*TetR*P0,\n",
    "                    -dm*mRNA + ktr*P0,\n",
    "                    #-dpro*TetR - pulse(t)*ki*TetR - b*P0*TetR + ka*TetRi + ktl*mRNA + u*P1,\n",
    "                     TetR*(-dpro-pulse(t)*ki -b*P0) + ka*TetRi + ktl*mRNA + u*P1, \n",
    "                    -dpro*TetRi + ki*TetR - ka*TetRi,\n",
    "                    -dpro*GFP + ktl*mRNA])\n",
    "#intitial Conditions\n",
    "P00 = 1\n",
    "P10 = 0\n",
    "mRNA0 = 10\n",
    "GFP0 = 200\n",
    "TetR0 = 200\n",
    "TetRi0 = 20\n",
    "\n",
    "vec0 = [P00,P10,mRNA0,TetR0,TetRi0, GFP0]\n",
    "\n",
    "soln = odeint(gfp, vec0, t, args=(ktr,ktl,dm,dpro,ka,ki,b,u))\n",
    "GFP = soln.T[5]\n",
    "plt.figure()\n",
    "plt.plot(t, GFP)\n",
    "plt.plot(t,list(map(pulse,t)))\n",
    "plt.xlim(-10,60)"
   ]
  },
  {
   "cell_type": "code",
   "execution_count": 7,
   "metadata": {},
   "outputs": [],
   "source": [
    "#import Dataset remove measurements after 50 hrs\n",
    "gfpi =pd.read_excel(\"12_8_20_comp_gfp_intensity.xlsx\")\n",
    "gfpi_data_cut = gfpi[0:150]\n",
    "gfpi_data_cut = gfpi_data_cut.values.T\n",
    "#gfpi_data.shape\n",
    "gfpi_data_cut.shape\n",
    "time = gfpi_data_cut[0].astype(np.double)\n",
    "gfp_data = gfpi_data_cut[1:].astype(np.double)"
   ]
  },
  {
   "cell_type": "code",
   "execution_count": 17,
   "metadata": {},
   "outputs": [
    {
     "data": {
      "image/png": "[encoded data removed]",
      "text/plain": [
       "<Figure size 432x288 with 1 Axes>"
      ]
     },
     "metadata": {
      "needs_background": "light"
     },
     "output_type": "display_data"
    }
   ],
   "source": [
    "for i in range(10):\n",
    "    #parameters\n",
    "    ktr = np.random.normal(loc = 200, scale = 20)\n",
    "    ktl =  np.random.normal(loc=37.5, scale = 0.005)\n",
    "    dpro =  np.random.normal(loc = 0.06, scale = 0.01)\n",
    "    dm =  np.random.normal(loc = 3.35, scale = 0.001)\n",
    "    ka =  np.random.normal(loc= 2,scale = 0.05)\n",
    "    ki =  np.random.normal(loc = 2, scale=0.05)\n",
    "    b =  np.random.normal(loc = 0.2, scale = 0.0035)\n",
    "    u =  np.random. normal(loc = 20.8, scale = 0.5)\n",
    "    #initial conditions\n",
    "    P00 = 1 \n",
    "    P10 = 0\n",
    "    mRNA0 = 10\n",
    "    GFP0 = 200\n",
    "    TetR0 = 200\n",
    "    TetRi0 = 20\n",
    "    vec0 = [P00,P10,mRNA0,TetR0,TetRi0, GFP0]\n",
    "    x1, infodict = odeint(gfp,vec0,t, args = (ktr,ktl,dm,dpro,ka,ki,b,u), full_output = True)\n",
    "    p0,p1,mRNA,TetR,TetRi,GFP = x1.T\n",
    "    plt.plot(t,GFP,\"-r\")\n",
    "#for data in gfp_data[:1]:\n",
    " #   plt.plot(data)"
   ]
  },
  {
   "cell_type": "code",
   "execution_count": null,
   "metadata": {},
   "outputs": [],
   "source": []
  }
 ],
 "metadata": {
  "kernelspec": {
   "display_name": "Python 3",
   "language": "python",
   "name": "python3"
  },
  "language_info": {
   "codemirror_mode": {
    "name": "ipython",
    "version": 3
   },
   "file_extension": ".py",
   "mimetype": "text/x-python",
   "name": "python",
   "nbconvert_exporter": "python",
   "pygments_lexer": "ipython3",
   "version": "3.7.4"
  }
 },
 "nbformat": 4,
 "nbformat_minor": 2
}
