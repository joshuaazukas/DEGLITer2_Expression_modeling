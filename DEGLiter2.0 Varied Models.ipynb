{
 "cells": [
  {
   "cell_type": "code",
   "execution_count": 3,
   "metadata": {},
   "outputs": [],
   "source": [
    "import numpy as np\n",
    "import matplotlib.pyplot as plt\n",
    "from scipy.integrate import odeint\n",
    "import pandas as pd\n",
    "import lmfit as lm\n",
    "SEED = 35010732 # from random.org\n",
    "np.random.seed(SEED)"
   ]
  },
  {
   "cell_type": "markdown",
   "metadata": {},
   "source": [
    "### ODE's"
   ]
  },
  {
   "cell_type": "markdown",
   "metadata": {},
   "source": [
    "$$dP_{0} = -bP_{0i}R_{i} + uP_{1i}$$\n",
    "$$dP_{1} = bP_{0i}R_{i} - uP_{1i} - bP_{1i}R_{i} + uP_{2i}$$\n",
    "$$dP_{2} = bP_{1i}R_{i} - uP_{2i}$$\n",
    "$$dmRNA = mrP_{0i} + lr - mRNA_{i}g_{1}$$\n",
    "$$dR = mRNA_{i}tr - R_{i}g_{2} -bP_{0i}R_{i}-bP_{1i}R_{i} +uP_{1i} + uP_{2i}$$\n",
    "$$dG = mRNA_{i}tr - G_{i}g_{2}$$"
   ]
  },
  {
   "cell_type": "markdown",
   "metadata": {},
   "source": [
    "|Name|Description|\n",
    "|----|-----------|\n",
    "|$P_{0}$|Free GFP & TetR promoter|\n",
    "|$P_{1}i$|1 bound GFP & TetR promoter|\n",
    "|$P_{2}i$|2 bound GFP & TetR promoter|\n",
    "|$mRNAi$|mRNA levels|\n",
    "|$Ri$|TetR Protein levels|\n",
    "|$Gi$|GFP protein levels|"
   ]
  },
  {
   "cell_type": "code",
   "execution_count": 4,
   "metadata": {},
   "outputs": [],
   "source": [
    "def f(vec, t, lr, mr,tr,g1,g2,b,u):\n",
    "    P0i=vec[0]      \n",
    "    P1i=vec[1]    \n",
    "    P2i=vec[2]     \n",
    "    mRNAi=vec[3]   \n",
    "    Ri=vec[4]     \n",
    "    Gi=vec[5]\n",
    "    \n",
    "    dP0 = -b*P0i*Ri + u*P1i\n",
    "    dP1 = b*P0i*Ri - u*P1i - b*P1i*Ri + u*P2i\n",
    "    dP2 = b*P1i*Ri - u*P2i\n",
    "    dmRNA = mr*P0i + lr - mRNAi*g1\n",
    "    dR = mRNAi*tr - Ri*g2 -b*P0i*Ri -b*P1i*Ri +u*P1i +u*P2i\n",
    "    dG = mRNAi*tr - Gi*g2\n",
    "    \n",
    "    return np.array([dP0, dP1, dP2, dmRNA, dR, dG])"
   ]
  },
  {
   "cell_type": "code",
   "execution_count": 5,
   "metadata": {},
   "outputs": [],
   "source": [
    "t = np.linspace(0,50,1000)\n",
    "\n",
    "#import Dataset remove measurements after 50 hrs\n",
    "gfpi =pd.read_excel(\"12_8_20_comp_gfp_intensity.xlsx\")\n",
    "gfpi_data_cut = gfpi[0:150]\n",
    "gfpi_data_cut = gfpi_data_cut.values.T\n",
    "\n",
    "#gfpi_data.shape\n",
    "gfpi_data_cut.shape\n",
    "time = gfpi_data_cut[0].astype(np.double)\n",
    "gfp_data = gfpi_data_cut[1:].astype(np.double)"
   ]
  },
  {
   "cell_type": "code",
   "execution_count": 12,
   "metadata": {},
   "outputs": [],
   "source": [
    "def generate_params():\n",
    "    lr = np.random.normal(loc= 605 , scale = 30) #mRNA leakage term ogv =2\n",
    "    mr = np.random.normal(loc=625 , scale = 1) #Max mRNA production rate ogv=200\n",
    "    tr = np.random.normal(loc=38 , scale = 0.005) #Translation rate\n",
    "    g1 = np.random.normal(loc= 3.35, scale = 0.001) #mRNA degradation/dilution rate\n",
    "    g2 = np.random.normal(loc=0.0485 , scale = 0.015) #Protein degradation/dilution rate\n",
    "    b = np.random.normal(loc=0.2 , scale = 0.0035) #TetR binding to TetR promoter\n",
    "    u = np.random.normal(loc=20.8 , scale =0.5) #TetR binding to TetR promoter\n",
    "    return (lr, mr, tr, g1, g2, b, u)\n",
    "\n",
    "def generate_init_conditions():\n",
    "    mRNA0= np.random.normal(loc=2200,scale=200)     #TetR mrna  \n",
    "    GFP10= np.random.normal(loc=25000,scale=250)    #GFP\n",
    "    TetR0= np.random.normal(loc=100,scale=10)       #unbound/active TetR protein ogv=0\n",
    "    P00= np.random.normal(loc=0,scale=10)           #0 TetR bound to TetR promoter\n",
    "    P10= np.random.normal(loc=0,scale=10)           #1 TetR bound to TetR promoter\n",
    "    P20= np.random.normal(loc=0,scale=200)          #2 TetR bound to TetR promoter\n",
    "    return [P00,P10,P20,mRNA0,TetR0,GFP10]"
   ]
  },
  {
   "cell_type": "code",
   "execution_count": 13,
   "metadata": {},
   "outputs": [
    {
     "data": {
      "text/plain": [
       "Text(0, 0.5, 'integrated intensity')"
      ]
     },
     "execution_count": 13,
     "metadata": {},
     "output_type": "execute_result"
    },
    {
     "data": {
      "image/png": "[encoded data removed]",
      "text/plain": [
       "<Figure size 432x288 with 1 Axes>"
      ]
     },
     "metadata": {
      "needs_background": "light"
     },
     "output_type": "display_data"
    }
   ],
   "source": [
    "for i in range(10):\n",
    "    #Parameters\n",
    "    params = generate_params()\n",
    "    #Initial Conditions\n",
    "    vec0 = generate_init_conditions()\n",
    "    x1, infodict = odeint(f,vec0,t, args = params, full_output=True)\n",
    "    p0, p1,p2,mRNA,R,G = x1.T\n",
    "    plt.plot(t, G,\"-r\")\n",
    "    \n",
    "for data in gfp_data[:1]:\n",
    "    plt.plot(time, data)\n",
    "plt.xlabel(\"time in hrs\")\n",
    "plt.ylabel(\"integrated intensity\")"
   ]
  },
  {
   "cell_type": "code",
   "execution_count": 184,
   "metadata": {},
   "outputs": [],
   "source": []
  },
  {
   "cell_type": "code",
   "execution_count": null,
   "metadata": {},
   "outputs": [],
   "source": []
  }
 ],
 "metadata": {
  "kernelspec": {
   "display_name": "Python 3",
   "language": "python",
   "name": "python3"
  },
  "language_info": {
   "codemirror_mode": {
    "name": "ipython",
    "version": 3
   },
   "file_extension": ".py",
   "mimetype": "text/x-python",
   "name": "python",
   "nbconvert_exporter": "python",
   "pygments_lexer": "ipython3",
   "version": "3.6.9"
  }
 },
 "nbformat": 4,
 "nbformat_minor": 4
}
