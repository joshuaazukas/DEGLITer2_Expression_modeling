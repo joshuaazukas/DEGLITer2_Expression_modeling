{
 "cells": [
  {
   "cell_type": "code",
   "execution_count": 40,
   "metadata": {
    "scrolled": true
   },
   "outputs": [
    {
     "data": {
      "text/plain": [
       "[<matplotlib.lines.Line2D at 0x25536780e48>]"
      ]
     },
     "execution_count": 40,
     "metadata": {},
     "output_type": "execute_result"
    },
    {
     "data": {
      "image/png": "[encoded data removed]",
      "text/plain": [
       "<Figure size 432x288 with 1 Axes>"
      ]
     },
     "metadata": {
      "needs_background": "light"
     },
     "output_type": "display_data"
    }
   ],
   "source": [
    "import numpy as np\n",
    "import matplotlib.pyplot as plt\n",
    "from scipy.integrate import odeint\n",
    "import pandas as pd\n",
    "import lmfit as lm\n",
    "plt.ion()\n",
    "#single promoter leakage/basal expression\n",
    "# Parameters\n",
    "lr = 2;        #mRNA leakage term ogv =2\n",
    "mr = 200;       #Max mRNA production rate ogv=200\n",
    "tr = 37.5;      #Translation rate\n",
    "g1 = 3.5;       #mRNA degradation/dilution rate\n",
    "g2 = 0.046;    #Protein degradation/dilution rate\n",
    "b = 0.2;        #TetR binding to TetR promoter\n",
    "u = 20.8;       #TetR unbinding to TetR promoter\n",
    " \n",
    "# Species\n",
    "def f(vec, t):\n",
    "    P0i=vec[0]      #Free GFP & TetR promoter\n",
    "    P1i=vec[1]    #1 bound GFP & TetR promoter\n",
    "    P2i=vec[2]     #2 bound GFP & TetR promoter\n",
    "    mRNAi=vec[3]   #mRNA levels\n",
    "    Ri=vec[4]     #TetR Protein levels\n",
    "    Gi=vec[5]    #GFP protein levels\n",
    "    dP0 = -b*P0i*Ri + u*P1i\n",
    "    dP1 = b*P0i*Ri - u*P1i - b*P1i*Ri + u*P2i\n",
    "    dP2 = b*P1i*Ri - u*P2i\n",
    "    dmRNA = mr*P0i + lr - mRNAi*g1\n",
    "    dR = mRNAi*tr - Ri*g2 -b*P0i*Ri -b*P1i*Ri +u*P1i +u*P2i\n",
    "    dG = mRNAi*tr - Gi*g2\n",
    "    return [dP0, dP1, dP2, dmRNA, dR, dG]\n",
    "#initial conditions\n",
    "mRNA0=0              #TetR mrna  \n",
    "GFP10= 0                    #GFP\n",
    "TetR0= 0                    #unbound/active TetR protein\n",
    "P00= 0                    #0 TetR bound to TetR promoter\n",
    "P10= 0                     #1 TetR bound to TetR promoter\n",
    "P20= 1                     #2 TetR bound to TetR promoter\n",
    "vec0 = [mRNA0, GFP10, TetR0, P00, P10, P20]\n",
    "t= np.linspace(0,50,1000)\n",
    "soln = odeint(f, vec0, t)\n",
    "P0 = soln[:,0]\n",
    "P1 = soln[:,1]\n",
    "P2 = soln[:,2]\n",
    "mRNA = soln[:,3]\n",
    "R = soln[:,4]\n",
    "G = soln[:,5]\n",
    "plt.figure()\n",
    "plt.plot(t,G)\n",
    "plt.plot(t, mRNA)"
   ]
  },
  {
   "cell_type": "code",
   "execution_count": 33,
   "metadata": {},
   "outputs": [],
   "source": [
    "#import Dataset remove measurements after 50 hrs\n",
    "gfpi =pd.read_excel(\"12_8_20_comp_gfp_intensity.xlsx\")\n",
    "gfpi_data_cut = gfpi[0:150]\n",
    "gfpi_data_cut = gfpi_data_cut.values.T"
   ]
  },
  {
   "cell_type": "code",
   "execution_count": 34,
   "metadata": {},
   "outputs": [
    {
     "data": {
      "text/plain": [
       "(161, 150)"
      ]
     },
     "execution_count": 34,
     "metadata": {},
     "output_type": "execute_result"
    }
   ],
   "source": [
    "#gfpi_data.shape\n",
    "gfpi_data_cut.shape"
   ]
  },
  {
   "cell_type": "code",
   "execution_count": 35,
   "metadata": {},
   "outputs": [],
   "source": [
    "time = gfpi_data_cut[0].astype(np.double)\n",
    "gfp_data = gfpi_data_cut[1:].astype(np.double)"
   ]
  },
  {
   "cell_type": "code",
   "execution_count": 36,
   "metadata": {},
   "outputs": [
    {
     "data": {
      "text/plain": [
       "Text(0, 0.5, 'integrated intensity')"
      ]
     },
     "execution_count": 36,
     "metadata": {},
     "output_type": "execute_result"
    },
    {
     "data": {
      "image/png": "[encoded data removed]",
      "text/plain": [
       "<Figure size 432x288 with 1 Axes>"
      ]
     },
     "metadata": {
      "needs_background": "light"
     },
     "output_type": "display_data"
    }
   ],
   "source": [
    "for data in gfp_data[:1]:\n",
    "    plt.plot(time, data)\n",
    "plt.xlabel(\"time in hrs\")\n",
    "plt.ylabel(\"integrated intensity\")"
   ]
  },
  {
   "cell_type": "code",
   "execution_count": 38,
   "metadata": {},
   "outputs": [
    {
     "ename": "KeyError",
     "evalue": "'lr'",
     "output_type": "error",
     "traceback": [
      "\u001b[1;31m---------------------------------------------------------------------------\u001b[0m",
      "\u001b[1;31mKeyError\u001b[0m                                  Traceback (most recent call last)",
      "\u001b[1;32m<ipython-input-38-fcb7ddbc8db7>\u001b[0m in \u001b[0;36m<module>\u001b[1;34m\u001b[0m\n\u001b[0;32m      2\u001b[0m \u001b[0mdata\u001b[0m \u001b[1;33m=\u001b[0m \u001b[0mgfp_data\u001b[0m\u001b[1;33m[\u001b[0m\u001b[1;36m1\u001b[0m\u001b[1;33m]\u001b[0m\u001b[1;33m\u001b[0m\u001b[1;33m\u001b[0m\u001b[0m\n\u001b[0;32m      3\u001b[0m \u001b[0mpars\u001b[0m \u001b[1;33m=\u001b[0m \u001b[0mgfp_mod\u001b[0m\u001b[1;33m.\u001b[0m\u001b[0mmake_params\u001b[0m\u001b[1;33m(\u001b[0m\u001b[1;33m)\u001b[0m\u001b[1;33m\u001b[0m\u001b[1;33m\u001b[0m\u001b[0m\n\u001b[1;32m----> 4\u001b[1;33m \u001b[0mpars\u001b[0m\u001b[1;33m[\u001b[0m\u001b[1;34m'lr'\u001b[0m\u001b[1;33m]\u001b[0m\u001b[1;33m.\u001b[0m\u001b[0mset\u001b[0m\u001b[1;33m(\u001b[0m\u001b[0mvalue\u001b[0m \u001b[1;33m=\u001b[0m \u001b[1;36m2\u001b[0m\u001b[1;33m,\u001b[0m \u001b[0mvary\u001b[0m \u001b[1;33m=\u001b[0m \u001b[1;32mTrue\u001b[0m\u001b[1;33m,\u001b[0m \u001b[0mmin\u001b[0m\u001b[1;33m=\u001b[0m\u001b[1;36m0\u001b[0m\u001b[1;33m)\u001b[0m\u001b[1;33m\u001b[0m\u001b[1;33m\u001b[0m\u001b[0m\n\u001b[0m",
      "\u001b[1;31mKeyError\u001b[0m: 'lr'"
     ]
    }
   ],
   "source": [
    "gfp_mod = lm.Model(f)\n",
    "data = gfp_data[1]\n",
    "pars = gfp_mod.make_params()\n",
    "pars['lr'].set(value = 2, vary = True, min=0)\n"
   ]
  },
  {
   "cell_type": "code",
   "execution_count": null,
   "metadata": {},
   "outputs": [],
   "source": [
    "results = gfp_mod.fit(data, pars, method='leastsq')"
   ]
  }
 ],
 "metadata": {
  "kernelspec": {
   "display_name": "Python 3",
   "language": "python",
   "name": "python3"
  },
  "language_info": {
   "codemirror_mode": {
    "name": "ipython",
    "version": 3
   },
   "file_extension": ".py",
   "mimetype": "text/x-python",
   "name": "python",
   "nbconvert_exporter": "python",
   "pygments_lexer": "ipython3",
   "version": "3.7.4"
  }
 },
 "nbformat": 4,
 "nbformat_minor": 2
}
